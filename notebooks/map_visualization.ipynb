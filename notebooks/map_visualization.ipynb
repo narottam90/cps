{
 "cells": [
  {
   "cell_type": "code",
   "execution_count": 1,
   "metadata": {},
   "outputs": [],
   "source": [
    "import pandas as pd\n",
    "import json\n",
    "import folium\n",
    "import urllib.request, urllib.parse, urllib.error\n",
    "import ssl\n",
    "import os"
   ]
  },
  {
   "cell_type": "code",
   "execution_count": 2,
   "metadata": {},
   "outputs": [],
   "source": [
    "df = pd.read_excel('/Users/riro/Documents/GitHub/cps/data/interim/cps_with_addresses.xlsx')\n",
    "df['Zipcode'] = df['Address'].str.extract(r'IL (\\d\\d\\d\\d\\d)')\n",
    "\n",
    "# create a new dataframe grouped by the zipcode and summed\n",
    "zipcode_df = df.groupby(['Zipcode']).sum()\n",
    "zipcode_df['Zipcode'] = zipcode_df.index"
   ]
  },
  {
   "cell_type": "code",
   "execution_count": 3,
   "metadata": {},
   "outputs": [
    {
     "ename": "TypeError",
     "evalue": "can only concatenate str (not \"NoneType\") to str",
     "output_type": "error",
     "traceback": [
      "\u001b[0;31m---------------------------------------------------------------------------\u001b[0m",
      "\u001b[0;31mTypeError\u001b[0m                                 Traceback (most recent call last)",
      "\u001b[0;32m<ipython-input-3-d67947118442>\u001b[0m in \u001b[0;36m<module>\u001b[0;34m\u001b[0m\n\u001b[1;32m     22\u001b[0m         \u001b[0;32mbreak\u001b[0m\u001b[0;34m\u001b[0m\u001b[0;34m\u001b[0m\u001b[0m\n\u001b[1;32m     23\u001b[0m \u001b[0;34m\u001b[0m\u001b[0m\n\u001b[0;32m---> 24\u001b[0;31m     \u001b[0murl\u001b[0m \u001b[0;34m=\u001b[0m \u001b[0msurl\u001b[0m \u001b[0;34m+\u001b[0m \u001b[0murllib\u001b[0m\u001b[0;34m.\u001b[0m\u001b[0mparse\u001b[0m\u001b[0;34m.\u001b[0m\u001b[0murlencode\u001b[0m\u001b[0;34m(\u001b[0m\u001b[0;34m{\u001b[0m\u001b[0;34m'address'\u001b[0m\u001b[0;34m:\u001b[0m \u001b[0maddress\u001b[0m\u001b[0;34m}\u001b[0m\u001b[0;34m)\u001b[0m \u001b[0;34m+\u001b[0m \u001b[0;34m'&key='\u001b[0m \u001b[0;34m+\u001b[0m \u001b[0mkey\u001b[0m\u001b[0;34m\u001b[0m\u001b[0;34m\u001b[0m\u001b[0m\n\u001b[0m\u001b[1;32m     25\u001b[0m     \u001b[0mprint\u001b[0m\u001b[0;34m(\u001b[0m\u001b[0;34m'Retrieving:'\u001b[0m\u001b[0;34m,\u001b[0m \u001b[0murl\u001b[0m\u001b[0;34m)\u001b[0m\u001b[0;34m\u001b[0m\u001b[0;34m\u001b[0m\u001b[0m\n\u001b[1;32m     26\u001b[0m \u001b[0;34m\u001b[0m\u001b[0m\n",
      "\u001b[0;31mTypeError\u001b[0m: can only concatenate str (not \"NoneType\") to str"
     ]
    }
   ],
   "source": [
    "# get the latitude and longitude for each school for markers\n",
    "\n",
    "#  https://maps.googleapis.com/maps/api/geocode/json?address=1600+Amphitheatre+Parkway,+Mountain+View,+CA&key=YOUR_API_KEY\n",
    "\n",
    "#  Ignore SSL errors\n",
    "ctx = ssl.create_default_context()\n",
    "ctx.check_hostname = False\n",
    "ctx.verify_mode = ssl.CERT_NONE\n",
    "\n",
    "surl = 'https://maps.googleapis.com/maps/api/geocode/json?'\n",
    "key = os.environ.get(\"KEY\")\n",
    "\n",
    "\n",
    "latitude = []\n",
    "longitude = []\n",
    "\n",
    "addresses = df['Address']\n",
    "\n",
    "for loc in addresses:\n",
    "    address = loc\n",
    "    if len(loc) < 1 :\n",
    "        break\n",
    "\n",
    "    url = surl + urllib.parse.urlencode({'address': address}) + '&key=' + key\n",
    "    print('Retrieving:', url)\n",
    "\n",
    "    uh = urllib.request.urlopen(url, context = ctx)\n",
    "    data = uh.read().decode()\n",
    "\n",
    "    try:\n",
    "        js = json.loads(data)\n",
    "    except:\n",
    "        js = None\n",
    "\n",
    "    if not js or 'status' not in js or js['status'] != 'OK':\n",
    "        print('***DATA RETRIEVAL FAIL***')\n",
    "        \n",
    "        continue\n",
    "\n",
    "    lat = js['results'][0]['geometry']['location']['lat']\n",
    "    lng = js['results'][0]['geometry']['location']['lng']\n",
    "    latitude.append(lat)\n",
    "    longitude.append(lng)\n",
    "    \n",
    "# add both series to the dataframe    \n",
    "df['Latitude'] = latitude\n",
    "df['Longitude'] = longitude\n",
    "\n",
    "print('Done.')"
   ]
  },
  {
   "cell_type": "code",
   "execution_count": null,
   "metadata": {},
   "outputs": [],
   "source": [
    "# remove ZIP codes that are not in the dataset\n",
    "with open('/Users/riro/Documents/GitHub/cps/data/processed/chicago.geojson') as jsonFile:\n",
    "    data = json.load(jsonFile)\n",
    "chicago_geo = data\n",
    "\n",
    "geozips = []\n",
    "for i in range(len(chicago_geo['features'])):\n",
    "    if chicago_geo['features'][i]['properties']['zip'] in list(zipcode_df['Zipcode'].unique()):\n",
    "        geozips.append(chicago_geo['features'][i])\n",
    "        \n",
    "# create a new JSON object\n",
    "new_json = dict.fromkeys(['type', 'features'])\n",
    "new_json['type'] = 'FeatureCollection'\n",
    "new_json['features'] = geozips\n",
    "\n",
    "# save JSON object as updated file\n",
    "open('/Users/riro/Documents/GitHub/cps/data/processed/updated_file.json', 'w').write(json.dumps(new_json, sort_keys=True, indent=4, separators=(',', ': ')))"
   ]
  },
  {
   "cell_type": "code",
   "execution_count": null,
   "metadata": {},
   "outputs": [],
   "source": [
    "with open('/Users/riro/Documents/GitHub/cps/data/processed/updated_file.json') as jsonFile:\n",
    "    clean_data = json.load(jsonFile)\n",
    "\n",
    "    \n",
    "chicago_geo_clean = clean_data\n",
    "\n",
    "df['FY 2020 Ending Budget (USD$ mlns)'] = df['FY 2020 Ending Budget']/1000000\n",
    "\n",
    "zipcode_df['Zipcode'] = zipcode_df.index\n",
    "zipcode_df['Zipcode'] = zipcode_df['Zipcode'].astype(str)\n",
    "zipcode_df['FY 2020 Ending Budget (USD$ mlns)'] = zipcode_df['FY 2020 Ending Budget']/1000000\n",
    "\n",
    "\n",
    "# initiate map\n",
    "m = folium.Map(location=[41.8339037,-87.5720448], zoom_start=10)\n",
    "\n",
    "folium.Choropleth(geo_data=chicago_geo_clean, \n",
    "                  data = zipcode_df,\n",
    "                  name = 'choropleth',\n",
    "                  columns = ['Zipcode', 'FY 2020 Ending Budget (USD$ mlns)'],\n",
    "                  key_on='feature.properties.zip',\n",
    "                  fill_color = 'YlOrBr', fill_opacity=0.7, line_opacity=0.2,\n",
    "                  threshold_scale = [0, 40, 80, 120, 160, 200],\n",
    "                  legend_name = '2020 CPS School Budgets (USD$ mlns)').add_to(m)\n",
    "\n",
    "from folium.plugins import MarkerCluster\n",
    "\n",
    "marker_cluster = MarkerCluster().add_to(m)\n",
    "\n",
    "for i in range(len(df)):\n",
    "    location = [df['Latitude'][i], df['Longitude'][i]]\n",
    "    tooltip = f\"Zipcode: {df['Zipcode'][i]}\"\n",
    "\n",
    "    folium.Marker(location=location,\n",
    "                 popup = \"\"\"\n",
    "                         <i> School Name: </i> <b> {} </b> <br>\n",
    "                         <i> Teaching Staff: </i> <b> {} </b> <br>\n",
    "                         <i> Annual Budget: </i> <b> ${} mln </b> <br>\n",
    "                         \"\"\".format(df['Unit Name'][i], round(df['FY 2020 Budgeted Positions'][i]), round(df['FY 2020 Ending Budget (USD$ mlns)'][i], 2)),\n",
    "                 tooltip = tooltip).add_to(marker_cluster)\n",
    "\n",
    "m.save('/Users/riro/Documents/GitHub/cps/reports/cps.html')"
   ]
  },
  {
   "cell_type": "code",
   "execution_count": null,
   "metadata": {},
   "outputs": [],
   "source": [
    "m"
   ]
  },
  {
   "cell_type": "code",
   "execution_count": null,
   "metadata": {},
   "outputs": [],
   "source": [
    "print(key)"
   ]
  },
  {
   "cell_type": "code",
   "execution_count": null,
   "metadata": {},
   "outputs": [],
   "source": []
  }
 ],
 "metadata": {
  "kernelspec": {
   "display_name": "Python 3",
   "language": "python",
   "name": "python3"
  },
  "language_info": {
   "codemirror_mode": {
    "name": "ipython",
    "version": 3
   },
   "file_extension": ".py",
   "mimetype": "text/x-python",
   "name": "python",
   "nbconvert_exporter": "python",
   "pygments_lexer": "ipython3",
   "version": "3.8.5"
  }
 },
 "nbformat": 4,
 "nbformat_minor": 4
}
